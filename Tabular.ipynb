{
  "nbformat": 4,
  "nbformat_minor": 0,
  "metadata": {
    "colab": {
      "name": "Tabular.ipynb",
      "version": "0.3.2",
      "provenance": [],
      "collapsed_sections": [],
      "toc_visible": true
    },
    "kernelspec": {
      "name": "python3",
      "display_name": "Python 3"
    },
    "accelerator": "GPU"
  },
  "cells": [
    {
      "cell_type": "markdown",
      "metadata": {
        "id": "5s2yxW5mrbn5",
        "colab_type": "text"
      },
      "source": [
        "## PrepData:\n",
        "\n",
        "Takes in a dataframe and an activity and generates a new column for it, as well as splits one dataframe into train, valid, and test contiguously "
      ]
    },
    {
      "cell_type": "code",
      "metadata": {
        "id": "10N6P17erXQ5",
        "colab_type": "code",
        "colab": {}
      },
      "source": [
        "#export\n",
        "class PrepData:\n",
        "  def __init__(self, dataframe, activity):\n",
        "    self.dataframe = dataframe\n",
        "    dataframe['Activity'] = activity\n",
        "    self.lenTrain = int(len(dataframe)/100*70)\n",
        "    self.lenValid = self.lenTrain + int(len(dataframe)/100*20)\n",
        "    self.lenTest = self.lenValid + int(len(dataframe)/100*10)\n",
        "    self.train = dataframe.iloc[:self.lenTrain]\n",
        "    self.valid = dataframe.iloc[self.lenTrain:self.lenValid]\n",
        "    self.test = dataframe.iloc[self.lenValid:]"
      ],
      "execution_count": 0,
      "outputs": []
    },
    {
      "cell_type": "markdown",
      "metadata": {
        "id": "wpz5_T_cr_ps",
        "colab_type": "text"
      },
      "source": [
        "## Combine Data\n",
        "Takes in multiple dataframes and appends them to the above train, valid, and test dataframes. Example is for two dataframes, repeat for any amount needed"
      ]
    },
    {
      "cell_type": "code",
      "metadata": {
        "id": "zXraALPQsC8V",
        "colab_type": "code",
        "colab": {}
      },
      "source": [
        "#export\n",
        "class CombineData:\n",
        "  def __init__(self, df1, df2):\n",
        "    self.train = df1.train.append([df2.train])\n",
        "    self.valid = df1.valid.append([df2.valid])\n",
        "    self.test = df1.test.append([df2.test])"
      ],
      "execution_count": 0,
      "outputs": []
    },
    {
      "cell_type": "markdown",
      "metadata": {
        "id": "z_C-iTbGsnX-",
        "colab_type": "text"
      },
      "source": [
        "## Calculate Hidden Layer Size\n",
        "![alt text](https://i.imgur.com/OaNtCkK.png)\n",
        "\n",
        "Pass in this hidden layer array into the layers parameters"
      ]
    },
    {
      "cell_type": "code",
      "metadata": {
        "id": "q8tmVUMasztW",
        "colab_type": "code",
        "colab": {}
      },
      "source": [
        "#export\n",
        "def calcHiddenLayer(data, alpha, ip, op, numHiddenLayers):\n",
        "  return [(len(data.train_ds)//(alpha*(ip+op)))//numHiddenLayers]*numHiddenLayers"
      ],
      "execution_count": 0,
      "outputs": []
    },
    {
      "cell_type": "markdown",
      "metadata": {
        "id": "EU6D-5NyuKg5",
        "colab_type": "text"
      },
      "source": [
        "## Feature Importance\n",
        "Pass in a learner, a list of categorical variables, and a list of continuous variables.\n",
        "Based on https://medium.com/@mp.music93/neural-networks-feature-importance-with-fastai-5c393cf65815"
      ]
    },
    {
      "cell_type": "code",
      "metadata": {
        "id": "6563NUN0uVcK",
        "colab_type": "code",
        "colab": {}
      },
      "source": [
        "#export\n",
        "def feature_importance(learner, cat_names, cont_names): \n",
        "    loss0=np.array([learner.loss_func(learner.pred_batch(batch=(x,y.to(\"cpu\"))), y.to(\"cpu\")) for x,y in iter(learner.data.valid_dl)]).mean()\n",
        "    fi=dict()\n",
        "    types=[cat_names, cont_names]\n",
        "    for j, t in enumerate(types):\n",
        "      for i, c in enumerate(t):\n",
        "        loss=[]\n",
        "        for x,y in iter(learner.data.valid_dl):\n",
        "          col=x[j][:,i]    #x[0] da hier cat-vars\n",
        "          idx = torch.randperm(col.nelement())\n",
        "          x[j][:,i] = col.view(-1)[idx].view(col.size())\n",
        "          y=y.to('cpu')\n",
        "          loss.append(learner.loss_func(learner.pred_batch(batch=(x,y)), y))\n",
        "        fi[c]=np.array(loss).mean()-loss0\n",
        "    d = sorted(fi.items(), key=lambda kv: kv[1], reverse=True)\n",
        "    return pd.DataFrame({'cols': [l for l, v in d], 'imp': np.log1p([v for l, v in d])})"
      ],
      "execution_count": 0,
      "outputs": []
    },
    {
      "cell_type": "markdown",
      "metadata": {
        "id": "hyQVBB38LqUk",
        "colab_type": "text"
      },
      "source": [
        "# Random Train Test Split"
      ]
    },
    {
      "cell_type": "markdown",
      "metadata": {
        "id": "2DRwIb3-LtDw",
        "colab_type": "text"
      },
      "source": [
        "Use sklearn's train_test_split to return two dataframes, one for my test set one for my train"
      ]
    },
    {
      "cell_type": "code",
      "metadata": {
        "id": "csI64zy9Lz2H",
        "colab_type": "code",
        "colab": {}
      },
      "source": [
        "#export\n",
        "from sklearn.model_selection import train_test_split\n",
        "\n",
        "train, test = train_test_split(df, test_size=0.1)"
      ],
      "execution_count": 0,
      "outputs": []
    },
    {
      "cell_type": "markdown",
      "metadata": {
        "id": "IBp_w7yxjUmL",
        "colab_type": "text"
      },
      "source": [
        "# Predicting on test set"
      ]
    },
    {
      "cell_type": "markdown",
      "metadata": {
        "id": "NR2l1NRBjWl4",
        "colab_type": "text"
      },
      "source": [
        "I wrote this quick function to help me grade my model on a labeled test set quickly."
      ]
    },
    {
      "cell_type": "code",
      "metadata": {
        "id": "E21ITxOSjbWR",
        "colab_type": "code",
        "colab": {}
      },
      "source": [
        "#export\n",
        "def PredictTest(df, learner, column):\n",
        "  i = 0\n",
        "  for x in range(len(df)):\n",
        "    if(str(learner.predict(df.iloc[x])[0]) == df[column].iloc[x]):\n",
        "      i+=1\n",
        "  return i/len(df)"
      ],
      "execution_count": 0,
      "outputs": []
    },
    {
      "cell_type": "code",
      "metadata": {
        "id": "ns1wDpZSkJyE",
        "colab_type": "code",
        "colab": {
          "base_uri": "https://localhost:8080/",
          "height": 255
        },
        "outputId": "89d13d2c-5c58-4a6f-8e22-daa3cb5b9b59"
      },
      "source": [
        "!python notebook2script.py Tabular.ipynb"
      ],
      "execution_count": 4,
      "outputs": [
        {
          "output_type": "stream",
          "text": [
            "Traceback (most recent call last):\n",
            "  File \"notebook2script.py\", line 71, in <module>\n",
            "    if __name__ == '__main__': fire.Fire(notebook2script)\n",
            "  File \"/usr/local/lib/python3.6/dist-packages/fire/core.py\", line 127, in Fire\n",
            "    component_trace = _Fire(component, args, context, name)\n",
            "  File \"/usr/local/lib/python3.6/dist-packages/fire/core.py\", line 366, in _Fire\n",
            "    component, remaining_args)\n",
            "  File \"/usr/local/lib/python3.6/dist-packages/fire/core.py\", line 542, in _CallCallable\n",
            "    result = fn(*varargs, **kwargs)\n",
            "  File \"notebook2script.py\", line 45, in notebook2script\n",
            "    if not allFiles: notebook2scriptSingle(fname)\n",
            "  File \"notebook2script.py\", line 56, in notebook2scriptSingle\n",
            "    main_dic = json.load(open(fname,'r'))\n",
            "FileNotFoundError: [Errno 2] No such file or directory: 'Tabular.ipynb'\n"
          ],
          "name": "stdout"
        }
      ]
    },
    {
      "cell_type": "code",
      "metadata": {
        "id": "58BM_mnAkkLY",
        "colab_type": "code",
        "colab": {}
      },
      "source": [
        ""
      ],
      "execution_count": 0,
      "outputs": []
    }
  ]
}